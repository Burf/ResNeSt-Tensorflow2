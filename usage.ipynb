{
 "cells": [
  {
   "cell_type": "code",
   "execution_count": 1,
   "metadata": {
    "colab": {
     "base_uri": "https://localhost:8080/",
     "height": 51
    },
    "id": "TAtrzndb7Vun",
    "outputId": "074362dc-5c41-4895-95b3-e8a11975bf50"
   },
   "outputs": [
    {
     "name": "stdout",
     "output_type": "stream",
     "text": [
      "Downloading data from https://www.cs.toronto.edu/~kriz/cifar-10-python.tar.gz\n",
      "170500096/170498071 [==============================] - 4s 0us/step\n"
     ]
    }
   ],
   "source": [
    "import tensorflow as tf\n",
    "\n",
    "def pipe(data, batch_size = 128, shuffle = False):\n",
    "    dataset = tf.data.Dataset.from_tensor_slices(data)\n",
    "    if shuffle:\n",
    "        dataset = dataset.shuffle(buffer_size = batch_size * 10)\n",
    "    dataset = dataset.batch(batch_size)\n",
    "    #dataset = dataset.prefetch((batch_size * 2) + 1)\n",
    "    dataset = dataset.prefetch(tf.data.experimental.AUTOTUNE)\n",
    "    return dataset\n",
    "\n",
    "(tr_x, tr_y), (te_x, te_y) = tf.keras.datasets.cifar10.load_data()\n",
    "\n",
    "tr_x = tr_x * 1/255\n",
    "te_x = te_x * 1/255\n",
    "\n",
    "batch_size = 128\n",
    "\n",
    "tr_data = pipe((tr_x, tr_y), batch_size = batch_size, shuffle = True)\n",
    "te_data = pipe((te_x, te_y), batch_size = batch_size, shuffle = False)"
   ]
  },
  {
   "cell_type": "code",
   "execution_count": 2,
   "metadata": {
    "colab": {
     "base_uri": "https://localhost:8080/",
     "height": 83,
     "referenced_widgets": [
      "f984345bb7124684a517b4231e5766ec",
      "d3656d36be6d4477a5bfd941fed8a886",
      "85e0d96918444df3878cc0a03f74beb2",
      "3914cdf644284fd98224d0716f63f206",
      "43b6d8c059e343899db1070a74e745f5",
      "8c066c9507e2410c9ede383e75e2b8ea",
      "cd152a0c3ce045ceb3c0391304486abd",
      "9be86dc9ed694d84b691b5507631a083"
     ]
    },
    "id": "ySaeM_5H7Q8A",
    "outputId": "1b558a06-9ca4-4c40-fdce-76171393d4d0"
   },
   "outputs": [
    {
     "name": "stderr",
     "output_type": "stream",
     "text": [
      "Downloading: \"https://s3.us-west-1.wasabisys.com/resnest/torch/resnest101-22405ba7.pth\" to /root/.cache/torch/hub/checkpoints/resnest101-22405ba7.pth\n"
     ]
    },
    {
     "data": {
      "application/vnd.jupyter.widget-view+json": {
       "model_id": "f984345bb7124684a517b4231e5766ec",
       "version_major": 2,
       "version_minor": 0
      },
      "text/plain": [
       "HBox(children=(FloatProgress(value=0.0, max=193782911.0), HTML(value='')))"
      ]
     },
     "metadata": {
      "tags": []
     },
     "output_type": "display_data"
    },
    {
     "name": "stdout",
     "output_type": "stream",
     "text": [
      "\n"
     ]
    }
   ],
   "source": [
    "import resnest\n",
    "\n",
    "model = resnest.resnest101(input_shape = (32, 32, 3), include_top = False, weights = \"imagenet\")\n",
    "\n",
    "flatten = tf.keras.layers.GlobalAveragePooling2D()(model.output)\n",
    "drop_out = tf.keras.layers.Dropout(0.5)(flatten)\n",
    "dense = tf.keras.layers.Dense(2048, activation = \"relu\")(drop_out)\n",
    "prediction = tf.keras.layers.Dense(10, activation = \"softmax\", name = \"prediction\")(dense)\n",
    "model = tf.keras.Model(model.input, prediction)"
   ]
  },
  {
   "cell_type": "code",
   "execution_count": 3,
   "metadata": {
    "id": "cka3vwta8pmU"
   },
   "outputs": [],
   "source": [
    "loss = tf.keras.losses.sparse_categorical_crossentropy\n",
    "opt = tf.keras.optimizers.Adam(1e-4)\n",
    "metric = [tf.keras.metrics.sparse_categorical_accuracy]\n",
    "model.compile(loss = loss, optimizer = opt, metrics = metric)"
   ]
  },
  {
   "cell_type": "code",
   "execution_count": 4,
   "metadata": {
    "colab": {
     "base_uri": "https://localhost:8080/",
     "height": 1000
    },
    "id": "S2T8gk6z9iBH",
    "outputId": "a28287c1-21ea-4170-d840-9cdce6a3783c"
   },
   "outputs": [
    {
     "name": "stdout",
     "output_type": "stream",
     "text": [
      "Epoch 1/50\n",
      "391/391 [==============================] - 56s 144ms/step - loss: 2.2179 - sparse_categorical_accuracy: 0.2226 - val_loss: 2.2187 - val_sparse_categorical_accuracy: 0.1797\n",
      "Epoch 2/50\n",
      "391/391 [==============================] - 53s 135ms/step - loss: 1.5344 - sparse_categorical_accuracy: 0.4758 - val_loss: 1.1841 - val_sparse_categorical_accuracy: 0.5939\n",
      "Epoch 3/50\n",
      "391/391 [==============================] - 52s 134ms/step - loss: 0.9328 - sparse_categorical_accuracy: 0.6882 - val_loss: 1.1895 - val_sparse_categorical_accuracy: 0.7486\n",
      "Epoch 4/50\n",
      "391/391 [==============================] - 52s 133ms/step - loss: 0.6582 - sparse_categorical_accuracy: 0.7799 - val_loss: 1.6012 - val_sparse_categorical_accuracy: 0.7847\n",
      "Epoch 5/50\n",
      "391/391 [==============================] - 52s 133ms/step - loss: 0.4902 - sparse_categorical_accuracy: 0.8364 - val_loss: 2.7330 - val_sparse_categorical_accuracy: 0.8052\n",
      "Epoch 6/50\n",
      "391/391 [==============================] - 52s 133ms/step - loss: 0.3808 - sparse_categorical_accuracy: 0.8742 - val_loss: 0.9634 - val_sparse_categorical_accuracy: 0.8035\n",
      "Epoch 7/50\n",
      "391/391 [==============================] - 52s 133ms/step - loss: 0.3214 - sparse_categorical_accuracy: 0.8928 - val_loss: 2.9835 - val_sparse_categorical_accuracy: 0.7432\n",
      "Epoch 8/50\n",
      "391/391 [==============================] - 52s 133ms/step - loss: 0.3916 - sparse_categorical_accuracy: 0.8708 - val_loss: 0.8159 - val_sparse_categorical_accuracy: 0.8155\n",
      "Epoch 9/50\n",
      "391/391 [==============================] - 52s 134ms/step - loss: 0.2251 - sparse_categorical_accuracy: 0.9250 - val_loss: 0.6268 - val_sparse_categorical_accuracy: 0.8299\n",
      "Epoch 10/50\n",
      "391/391 [==============================] - 52s 133ms/step - loss: 0.1781 - sparse_categorical_accuracy: 0.9411 - val_loss: 0.6696 - val_sparse_categorical_accuracy: 0.8247\n",
      "Epoch 11/50\n",
      "391/391 [==============================] - 52s 133ms/step - loss: 0.1272 - sparse_categorical_accuracy: 0.9585 - val_loss: 0.7185 - val_sparse_categorical_accuracy: 0.8337\n",
      "Epoch 12/50\n",
      "391/391 [==============================] - 52s 133ms/step - loss: 0.0909 - sparse_categorical_accuracy: 0.9712 - val_loss: 0.7217 - val_sparse_categorical_accuracy: 0.8386\n",
      "Epoch 13/50\n",
      "391/391 [==============================] - 52s 133ms/step - loss: 0.0674 - sparse_categorical_accuracy: 0.9787 - val_loss: 0.7826 - val_sparse_categorical_accuracy: 0.8295\n",
      "Epoch 14/50\n",
      "391/391 [==============================] - 52s 133ms/step - loss: 0.0584 - sparse_categorical_accuracy: 0.9813 - val_loss: 0.9486 - val_sparse_categorical_accuracy: 0.8217\n",
      "Epoch 15/50\n",
      "391/391 [==============================] - 53s 134ms/step - loss: 0.0929 - sparse_categorical_accuracy: 0.9708 - val_loss: 19.7243 - val_sparse_categorical_accuracy: 0.7750\n",
      "Epoch 16/50\n",
      "391/391 [==============================] - 52s 133ms/step - loss: 0.0867 - sparse_categorical_accuracy: 0.9736 - val_loss: 0.8127 - val_sparse_categorical_accuracy: 0.8403\n",
      "Epoch 17/50\n",
      "391/391 [==============================] - 52s 133ms/step - loss: 0.0738 - sparse_categorical_accuracy: 0.9777 - val_loss: 0.7319 - val_sparse_categorical_accuracy: 0.8357\n",
      "Epoch 18/50\n",
      "391/391 [==============================] - 52s 133ms/step - loss: 0.0698 - sparse_categorical_accuracy: 0.9786 - val_loss: 0.7287 - val_sparse_categorical_accuracy: 0.8392\n",
      "Epoch 19/50\n",
      "391/391 [==============================] - 52s 133ms/step - loss: 0.0721 - sparse_categorical_accuracy: 0.9777 - val_loss: 3.6693 - val_sparse_categorical_accuracy: 0.8262\n",
      "Epoch 20/50\n",
      "391/391 [==============================] - 52s 133ms/step - loss: 0.1582 - sparse_categorical_accuracy: 0.9514 - val_loss: 0.6422 - val_sparse_categorical_accuracy: 0.8316\n",
      "Epoch 21/50\n",
      "391/391 [==============================] - 52s 133ms/step - loss: 0.0749 - sparse_categorical_accuracy: 0.9756 - val_loss: 0.6634 - val_sparse_categorical_accuracy: 0.8520\n",
      "Epoch 22/50\n",
      "391/391 [==============================] - 52s 133ms/step - loss: 0.0395 - sparse_categorical_accuracy: 0.9870 - val_loss: 0.7186 - val_sparse_categorical_accuracy: 0.8540\n",
      "Epoch 23/50\n",
      "391/391 [==============================] - 52s 133ms/step - loss: 0.0308 - sparse_categorical_accuracy: 0.9903 - val_loss: 0.6969 - val_sparse_categorical_accuracy: 0.8564\n",
      "Epoch 24/50\n",
      "391/391 [==============================] - 52s 133ms/step - loss: 0.0293 - sparse_categorical_accuracy: 0.9907 - val_loss: 0.7245 - val_sparse_categorical_accuracy: 0.8536\n",
      "Epoch 25/50\n",
      "391/391 [==============================] - 52s 133ms/step - loss: 0.0327 - sparse_categorical_accuracy: 0.9894 - val_loss: 0.7723 - val_sparse_categorical_accuracy: 0.8448\n",
      "Epoch 26/50\n",
      "391/391 [==============================] - 52s 133ms/step - loss: 0.0476 - sparse_categorical_accuracy: 0.9857 - val_loss: 0.8425 - val_sparse_categorical_accuracy: 0.8447\n",
      "Epoch 27/50\n",
      "391/391 [==============================] - 52s 133ms/step - loss: 0.0388 - sparse_categorical_accuracy: 0.9875 - val_loss: 0.7098 - val_sparse_categorical_accuracy: 0.8571\n",
      "Epoch 28/50\n",
      "391/391 [==============================] - 52s 133ms/step - loss: 0.0364 - sparse_categorical_accuracy: 0.9894 - val_loss: 0.6613 - val_sparse_categorical_accuracy: 0.8568\n",
      "Epoch 29/50\n",
      "391/391 [==============================] - 52s 134ms/step - loss: 0.0628 - sparse_categorical_accuracy: 0.9801 - val_loss: 0.6780 - val_sparse_categorical_accuracy: 0.8460\n",
      "Epoch 30/50\n",
      "391/391 [==============================] - 53s 135ms/step - loss: 0.0500 - sparse_categorical_accuracy: 0.9857 - val_loss: 0.6705 - val_sparse_categorical_accuracy: 0.8485\n",
      "Epoch 31/50\n",
      "391/391 [==============================] - 53s 135ms/step - loss: 0.0423 - sparse_categorical_accuracy: 0.9873 - val_loss: 0.6592 - val_sparse_categorical_accuracy: 0.8581\n",
      "Epoch 32/50\n",
      "391/391 [==============================] - 53s 136ms/step - loss: 0.0304 - sparse_categorical_accuracy: 0.9907 - val_loss: 0.6420 - val_sparse_categorical_accuracy: 0.8572\n",
      "Epoch 33/50\n",
      "391/391 [==============================] - 53s 136ms/step - loss: 0.0283 - sparse_categorical_accuracy: 0.9912 - val_loss: 0.6432 - val_sparse_categorical_accuracy: 0.8596\n",
      "Epoch 34/50\n",
      "391/391 [==============================] - 53s 135ms/step - loss: 0.0306 - sparse_categorical_accuracy: 0.9906 - val_loss: 0.6413 - val_sparse_categorical_accuracy: 0.8530\n",
      "Epoch 35/50\n",
      "391/391 [==============================] - 53s 137ms/step - loss: 0.0310 - sparse_categorical_accuracy: 0.9902 - val_loss: 0.6644 - val_sparse_categorical_accuracy: 0.8527\n",
      "Epoch 36/50\n",
      "391/391 [==============================] - 53s 136ms/step - loss: 0.0327 - sparse_categorical_accuracy: 0.9901 - val_loss: 0.6512 - val_sparse_categorical_accuracy: 0.8576\n",
      "Epoch 37/50\n",
      "391/391 [==============================] - 53s 137ms/step - loss: 0.0290 - sparse_categorical_accuracy: 0.9908 - val_loss: 0.6451 - val_sparse_categorical_accuracy: 0.8604\n",
      "Epoch 38/50\n",
      "391/391 [==============================] - 53s 135ms/step - loss: 0.0284 - sparse_categorical_accuracy: 0.9917 - val_loss: 0.6429 - val_sparse_categorical_accuracy: 0.8595\n",
      "Epoch 39/50\n",
      "391/391 [==============================] - 53s 135ms/step - loss: 0.0324 - sparse_categorical_accuracy: 0.9897 - val_loss: 0.6404 - val_sparse_categorical_accuracy: 0.8556\n",
      "Epoch 40/50\n",
      "391/391 [==============================] - 53s 136ms/step - loss: 0.0343 - sparse_categorical_accuracy: 0.9903 - val_loss: 0.9350 - val_sparse_categorical_accuracy: 0.8611\n",
      "Epoch 41/50\n",
      "391/391 [==============================] - 53s 136ms/step - loss: 0.0420 - sparse_categorical_accuracy: 0.9874 - val_loss: 0.6213 - val_sparse_categorical_accuracy: 0.8590\n",
      "Epoch 42/50\n",
      "391/391 [==============================] - 53s 136ms/step - loss: 0.0284 - sparse_categorical_accuracy: 0.9915 - val_loss: 0.6547 - val_sparse_categorical_accuracy: 0.8583\n",
      "Epoch 43/50\n",
      "391/391 [==============================] - 53s 135ms/step - loss: 0.0200 - sparse_categorical_accuracy: 0.9937 - val_loss: 0.6317 - val_sparse_categorical_accuracy: 0.8686\n",
      "Epoch 44/50\n",
      "391/391 [==============================] - 53s 135ms/step - loss: 0.0188 - sparse_categorical_accuracy: 0.9942 - val_loss: 0.6605 - val_sparse_categorical_accuracy: 0.8662\n",
      "Epoch 45/50\n",
      "391/391 [==============================] - 52s 134ms/step - loss: 0.0233 - sparse_categorical_accuracy: 0.9925 - val_loss: 0.7771 - val_sparse_categorical_accuracy: 0.8482\n",
      "Epoch 46/50\n",
      "391/391 [==============================] - 52s 134ms/step - loss: 0.0260 - sparse_categorical_accuracy: 0.9922 - val_loss: 0.6526 - val_sparse_categorical_accuracy: 0.8621\n",
      "Epoch 47/50\n",
      "391/391 [==============================] - 52s 134ms/step - loss: 0.0245 - sparse_categorical_accuracy: 0.9926 - val_loss: 0.7785 - val_sparse_categorical_accuracy: 0.8477\n",
      "Epoch 48/50\n",
      "391/391 [==============================] - 52s 134ms/step - loss: 0.0294 - sparse_categorical_accuracy: 0.9915 - val_loss: 0.6483 - val_sparse_categorical_accuracy: 0.8550\n",
      "Epoch 49/50\n",
      "391/391 [==============================] - 52s 134ms/step - loss: 0.0250 - sparse_categorical_accuracy: 0.9926 - val_loss: 0.7692 - val_sparse_categorical_accuracy: 0.8661\n",
      "Epoch 50/50\n",
      "391/391 [==============================] - 52s 134ms/step - loss: 0.0223 - sparse_categorical_accuracy: 0.9931 - val_loss: 0.6120 - val_sparse_categorical_accuracy: 0.8650\n"
     ]
    },
    {
     "data": {
      "text/plain": [
       "<tensorflow.python.keras.callbacks.History at 0x7ff5f8062a90>"
      ]
     },
     "execution_count": 4,
     "metadata": {
      "tags": []
     },
     "output_type": "execute_result"
    }
   ],
   "source": [
    "model.fit(tr_data, validation_data = te_data, epochs = 50)"
   ]
  },
  {
   "cell_type": "code",
   "execution_count": 5,
   "metadata": {
    "id": "tXn4W1lqhbbf"
   },
   "outputs": [],
   "source": [
    "with open(\"model.json\", mode = \"w\") as file:\n",
    "    file.write(model.to_json())\n",
    "model.save_weights(\"model.h5\")"
   ]
  },
  {
   "cell_type": "code",
   "execution_count": 6,
   "metadata": {
    "id": "9Rx7ssmeh167"
   },
   "outputs": [],
   "source": [
    "with open(\"model.json\", mode = \"r\") as file:\n",
    "    model = tf.keras.models.model_from_json(file.read(), {\"rSoftMax\":resnest.rSoftMax})\n",
    "model.load_weights(\"model.h5\")"
   ]
  },
  {
   "cell_type": "code",
   "execution_count": 7,
   "metadata": {
    "colab": {
     "base_uri": "https://localhost:8080/",
     "height": 51
    },
    "id": "JTBoj3vrFLca",
    "outputId": "1eb30d0c-5961-4019-d946-7c747f4b7461"
   },
   "outputs": [
    {
     "name": "stdout",
     "output_type": "stream",
     "text": [
      "79/79 [==============================] - 3s 37ms/step - loss: 0.6120 - sparse_categorical_accuracy: 0.8650\n"
     ]
    },
    {
     "data": {
      "text/plain": [
       "[0.6120349168777466, 0.8650000095367432]"
      ]
     },
     "execution_count": 7,
     "metadata": {
      "tags": []
     },
     "output_type": "execute_result"
    }
   ],
   "source": [
    "loss = tf.keras.losses.sparse_categorical_crossentropy\n",
    "metric = [tf.keras.metrics.sparse_categorical_accuracy]\n",
    "model.compile(loss = loss, metrics = metric)\n",
    "model.evaluate(te_data)"
   ]
  },
  {
   "cell_type": "code",
   "execution_count": null,
   "metadata": {
    "id": "MsTu5aaRHY9d"
   },
   "outputs": [],
   "source": []
  }
 ],
 "metadata": {
  "accelerator": "GPU",
  "colab": {
   "collapsed_sections": [],
   "name": "usage.ipynb",
   "provenance": []
  },
  "kernelspec": {
   "display_name": "Python 3",
   "language": "python",
   "name": "python3"
  },
  "language_info": {
   "codemirror_mode": {
    "name": "ipython",
    "version": 3
   },
   "file_extension": ".py",
   "mimetype": "text/x-python",
   "name": "python",
   "nbconvert_exporter": "python",
   "pygments_lexer": "ipython3",
   "version": "3.7.6"
  },
  "widgets": {
   "application/vnd.jupyter.widget-state+json": {
    "3914cdf644284fd98224d0716f63f206": {
     "model_module": "@jupyter-widgets/controls",
     "model_name": "HTMLModel",
     "state": {
      "_dom_classes": [],
      "_model_module": "@jupyter-widgets/controls",
      "_model_module_version": "1.5.0",
      "_model_name": "HTMLModel",
      "_view_count": null,
      "_view_module": "@jupyter-widgets/controls",
      "_view_module_version": "1.5.0",
      "_view_name": "HTMLView",
      "description": "",
      "description_tooltip": null,
      "layout": "IPY_MODEL_9be86dc9ed694d84b691b5507631a083",
      "placeholder": "​",
      "style": "IPY_MODEL_cd152a0c3ce045ceb3c0391304486abd",
      "value": " 185M/185M [00:02&lt;00:00, 73.8MB/s]"
     }
    },
    "43b6d8c059e343899db1070a74e745f5": {
     "model_module": "@jupyter-widgets/controls",
     "model_name": "ProgressStyleModel",
     "state": {
      "_model_module": "@jupyter-widgets/controls",
      "_model_module_version": "1.5.0",
      "_model_name": "ProgressStyleModel",
      "_view_count": null,
      "_view_module": "@jupyter-widgets/base",
      "_view_module_version": "1.2.0",
      "_view_name": "StyleView",
      "bar_color": null,
      "description_width": "initial"
     }
    },
    "85e0d96918444df3878cc0a03f74beb2": {
     "model_module": "@jupyter-widgets/controls",
     "model_name": "FloatProgressModel",
     "state": {
      "_dom_classes": [],
      "_model_module": "@jupyter-widgets/controls",
      "_model_module_version": "1.5.0",
      "_model_name": "FloatProgressModel",
      "_view_count": null,
      "_view_module": "@jupyter-widgets/controls",
      "_view_module_version": "1.5.0",
      "_view_name": "ProgressView",
      "bar_style": "success",
      "description": "100%",
      "description_tooltip": null,
      "layout": "IPY_MODEL_8c066c9507e2410c9ede383e75e2b8ea",
      "max": 193782911,
      "min": 0,
      "orientation": "horizontal",
      "style": "IPY_MODEL_43b6d8c059e343899db1070a74e745f5",
      "value": 193782911
     }
    },
    "8c066c9507e2410c9ede383e75e2b8ea": {
     "model_module": "@jupyter-widgets/base",
     "model_name": "LayoutModel",
     "state": {
      "_model_module": "@jupyter-widgets/base",
      "_model_module_version": "1.2.0",
      "_model_name": "LayoutModel",
      "_view_count": null,
      "_view_module": "@jupyter-widgets/base",
      "_view_module_version": "1.2.0",
      "_view_name": "LayoutView",
      "align_content": null,
      "align_items": null,
      "align_self": null,
      "border": null,
      "bottom": null,
      "display": null,
      "flex": null,
      "flex_flow": null,
      "grid_area": null,
      "grid_auto_columns": null,
      "grid_auto_flow": null,
      "grid_auto_rows": null,
      "grid_column": null,
      "grid_gap": null,
      "grid_row": null,
      "grid_template_areas": null,
      "grid_template_columns": null,
      "grid_template_rows": null,
      "height": null,
      "justify_content": null,
      "justify_items": null,
      "left": null,
      "margin": null,
      "max_height": null,
      "max_width": null,
      "min_height": null,
      "min_width": null,
      "object_fit": null,
      "object_position": null,
      "order": null,
      "overflow": null,
      "overflow_x": null,
      "overflow_y": null,
      "padding": null,
      "right": null,
      "top": null,
      "visibility": null,
      "width": null
     }
    },
    "9be86dc9ed694d84b691b5507631a083": {
     "model_module": "@jupyter-widgets/base",
     "model_name": "LayoutModel",
     "state": {
      "_model_module": "@jupyter-widgets/base",
      "_model_module_version": "1.2.0",
      "_model_name": "LayoutModel",
      "_view_count": null,
      "_view_module": "@jupyter-widgets/base",
      "_view_module_version": "1.2.0",
      "_view_name": "LayoutView",
      "align_content": null,
      "align_items": null,
      "align_self": null,
      "border": null,
      "bottom": null,
      "display": null,
      "flex": null,
      "flex_flow": null,
      "grid_area": null,
      "grid_auto_columns": null,
      "grid_auto_flow": null,
      "grid_auto_rows": null,
      "grid_column": null,
      "grid_gap": null,
      "grid_row": null,
      "grid_template_areas": null,
      "grid_template_columns": null,
      "grid_template_rows": null,
      "height": null,
      "justify_content": null,
      "justify_items": null,
      "left": null,
      "margin": null,
      "max_height": null,
      "max_width": null,
      "min_height": null,
      "min_width": null,
      "object_fit": null,
      "object_position": null,
      "order": null,
      "overflow": null,
      "overflow_x": null,
      "overflow_y": null,
      "padding": null,
      "right": null,
      "top": null,
      "visibility": null,
      "width": null
     }
    },
    "cd152a0c3ce045ceb3c0391304486abd": {
     "model_module": "@jupyter-widgets/controls",
     "model_name": "DescriptionStyleModel",
     "state": {
      "_model_module": "@jupyter-widgets/controls",
      "_model_module_version": "1.5.0",
      "_model_name": "DescriptionStyleModel",
      "_view_count": null,
      "_view_module": "@jupyter-widgets/base",
      "_view_module_version": "1.2.0",
      "_view_name": "StyleView",
      "description_width": ""
     }
    },
    "d3656d36be6d4477a5bfd941fed8a886": {
     "model_module": "@jupyter-widgets/base",
     "model_name": "LayoutModel",
     "state": {
      "_model_module": "@jupyter-widgets/base",
      "_model_module_version": "1.2.0",
      "_model_name": "LayoutModel",
      "_view_count": null,
      "_view_module": "@jupyter-widgets/base",
      "_view_module_version": "1.2.0",
      "_view_name": "LayoutView",
      "align_content": null,
      "align_items": null,
      "align_self": null,
      "border": null,
      "bottom": null,
      "display": null,
      "flex": null,
      "flex_flow": null,
      "grid_area": null,
      "grid_auto_columns": null,
      "grid_auto_flow": null,
      "grid_auto_rows": null,
      "grid_column": null,
      "grid_gap": null,
      "grid_row": null,
      "grid_template_areas": null,
      "grid_template_columns": null,
      "grid_template_rows": null,
      "height": null,
      "justify_content": null,
      "justify_items": null,
      "left": null,
      "margin": null,
      "max_height": null,
      "max_width": null,
      "min_height": null,
      "min_width": null,
      "object_fit": null,
      "object_position": null,
      "order": null,
      "overflow": null,
      "overflow_x": null,
      "overflow_y": null,
      "padding": null,
      "right": null,
      "top": null,
      "visibility": null,
      "width": null
     }
    },
    "f984345bb7124684a517b4231e5766ec": {
     "model_module": "@jupyter-widgets/controls",
     "model_name": "HBoxModel",
     "state": {
      "_dom_classes": [],
      "_model_module": "@jupyter-widgets/controls",
      "_model_module_version": "1.5.0",
      "_model_name": "HBoxModel",
      "_view_count": null,
      "_view_module": "@jupyter-widgets/controls",
      "_view_module_version": "1.5.0",
      "_view_name": "HBoxView",
      "box_style": "",
      "children": [
       "IPY_MODEL_85e0d96918444df3878cc0a03f74beb2",
       "IPY_MODEL_3914cdf644284fd98224d0716f63f206"
      ],
      "layout": "IPY_MODEL_d3656d36be6d4477a5bfd941fed8a886"
     }
    }
   }
  }
 },
 "nbformat": 4,
 "nbformat_minor": 4
}
